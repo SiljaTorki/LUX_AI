{
 "cells": [
  {
   "cell_type": "code",
   "execution_count": null,
   "metadata": {},
   "outputs": [],
   "source": [
    "import IPython\n",
    "IPython.display.HTML(filename=\"replay.html\")"
   ]
  },
  {
   "cell_type": "code",
   "execution_count": 1,
   "metadata": {},
   "outputs": [],
   "source": [
    "import numpy as np\n",
    "from environment import NodeType, ActionType, GameConstants\n",
    "from stable_baselines3 import PPO\n",
    "import sys\n",
    "import json\n",
    "\n",
    "def create_test_observation():\n",
    "    \"\"\"Create a sample observation to test model predictions\"\"\"\n",
    "    # Create a basic observation with random data\n",
    "    obs = {\n",
    "        \"units_position\": np.random.randint(-1, 24, size=(2, 16, 2)).astype(np.int8),\n",
    "        \"units_energy\": np.random.randint(0, 400, size=(2, 16, 1)).astype(np.int32),\n",
    "        \"units_mask\": np.random.randint(0, 2, size=(2, 16)).astype(np.int8),\n",
    "        \"sensor_mask\": np.random.randint(0, 2, size=(24, 24)).astype(np.int8),\n",
    "        \"map_features_tile_type\": np.random.randint(0, 5, size=(24, 24)).astype(np.int8),\n",
    "        \"map_features_energy\": np.random.uniform(-20, 20, size=(24, 24)).astype(np.float64),\n",
    "        \"relic_nodes\": np.random.randint(0, 24, size=(6, 2)).astype(np.int32),\n",
    "        \"relic_nodes_mask\": np.random.randint(0, 2, size=(6,)).astype(np.float32),\n",
    "        \"team_points\": np.random.randint(0, 100, size=(2,)).astype(np.int32),\n",
    "        \"team_wins\": np.random.randint(0, 5, size=(2,)).astype(np.int32),\n",
    "        \"steps\": np.array([np.random.randint(0, 100)], dtype=np.float32),\n",
    "        \"match_steps\": np.array([100], dtype=np.int32),\n",
    "        \"remainingOverageTime\": np.array([60], dtype=np.int32),\n",
    "    }\n",
    "    \n",
    "    # Make sure some units are active\n",
    "    obs[\"units_mask\"][0, 0:5] = 1\n",
    "    obs[\"units_mask\"][1, 0:5] = 1\n",
    "    \n",
    "    # Make sure some relics are visible\n",
    "    obs[\"relic_nodes_mask\"][0:2] = 1\n",
    "    \n",
    "    return obs\n",
    "\n",
    "def test_model(model_path):\n",
    "    \"\"\"Test model predictions with different observations\"\"\"\n",
    "    try:\n",
    "        # Load the model\n",
    "        model = PPO.load(model_path)\n",
    "        print(f\"Successfully loaded model from {model_path}\")\n",
    "        print(f\"Model policy network: {model.policy}\")\n",
    "        \n",
    "        # Test with a few different observations\n",
    "        for i in range(5):\n",
    "            print(f\"\\nTest {i+1}:\")\n",
    "            obs = create_test_observation()\n",
    "            \n",
    "            # Make prediction\n",
    "            action, _ = model.predict(obs, deterministic=True)\n",
    "            print(f\"Model prediction: {action}\")\n",
    "            \n",
    "            # Convert to goal position (similar to your agent code)\n",
    "            if isinstance(action, (int, np.integer)) or (isinstance(action, np.ndarray) and action.size == 1):\n",
    "                action_value = int(action) if isinstance(action, np.ndarray) else action\n",
    "                print(f\"Action value: {action_value} ({ActionType(action_value).name})\")\n",
    "            elif isinstance(action, np.ndarray):\n",
    "                print(f\"Action array: {action}, shape: {action.shape}\")\n",
    "            else:\n",
    "                print(f\"Unexpected action type: {type(action)}\")\n",
    "    \n",
    "    except Exception as e:\n",
    "        print(f\"Error testing model: {e}\")\n",
    "        import traceback\n",
    "        traceback.print_exc()"
   ]
  },
  {
   "cell_type": "code",
   "execution_count": 2,
   "metadata": {},
   "outputs": [
    {
     "name": "stdout",
     "output_type": "stream",
     "text": [
      "Error testing model: [Errno 2] No such file or directory: '--f=/Users/siljastubhaugtorkildsen/Library/Jupyter/runtime/kernel-v3387711debc21648addfb604998bfd8e65c21b7e1.json.zip'\n"
     ]
    },
    {
     "name": "stderr",
     "output_type": "stream",
     "text": [
      "Traceback (most recent call last):\n",
      "  File \"/var/folders/r4/0hl4ht152dlbx319bqgg3qq40000gn/T/ipykernel_51183/2985781934.py\", line 39, in test_model\n",
      "    model = PPO.load(model_path)\n",
      "            ^^^^^^^^^^^^^^^^^^^^\n",
      "  File \"/opt/anaconda3/envs/inf367/lib/python3.12/site-packages/stable_baselines3/common/base_class.py\", line 681, in load\n",
      "    data, params, pytorch_variables = load_from_zip_file(\n",
      "                                      ^^^^^^^^^^^^^^^^^^^\n",
      "  File \"/opt/anaconda3/envs/inf367/lib/python3.12/site-packages/stable_baselines3/common/save_util.py\", line 403, in load_from_zip_file\n",
      "    file = open_path(load_path, \"r\", verbose=verbose, suffix=\"zip\")\n",
      "           ^^^^^^^^^^^^^^^^^^^^^^^^^^^^^^^^^^^^^^^^^^^^^^^^^^^^^^^^\n",
      "  File \"/opt/anaconda3/envs/inf367/lib/python3.12/functools.py\", line 909, in wrapper\n",
      "    return dispatch(args[0].__class__)(*args, **kw)\n",
      "           ^^^^^^^^^^^^^^^^^^^^^^^^^^^^^^^^^^^^^^^^\n",
      "  File \"/opt/anaconda3/envs/inf367/lib/python3.12/site-packages/stable_baselines3/common/save_util.py\", line 240, in open_path_str\n",
      "    return open_path_pathlib(pathlib.Path(path), mode, verbose, suffix)\n",
      "           ^^^^^^^^^^^^^^^^^^^^^^^^^^^^^^^^^^^^^^^^^^^^^^^^^^^^^^^^^^^^\n",
      "  File \"/opt/anaconda3/envs/inf367/lib/python3.12/site-packages/stable_baselines3/common/save_util.py\", line 291, in open_path_pathlib\n",
      "    return open_path_pathlib(path, mode, verbose, suffix)\n",
      "           ^^^^^^^^^^^^^^^^^^^^^^^^^^^^^^^^^^^^^^^^^^^^^^\n",
      "  File \"/opt/anaconda3/envs/inf367/lib/python3.12/site-packages/stable_baselines3/common/save_util.py\", line 272, in open_path_pathlib\n",
      "    raise error\n",
      "  File \"/opt/anaconda3/envs/inf367/lib/python3.12/site-packages/stable_baselines3/common/save_util.py\", line 264, in open_path_pathlib\n",
      "    return open_path(path.open(\"rb\"), mode, verbose, suffix)\n",
      "                     ^^^^^^^^^^^^^^^\n",
      "  File \"/opt/anaconda3/envs/inf367/lib/python3.12/pathlib.py\", line 1013, in open\n",
      "    return io.open(self, mode, buffering, encoding, errors, newline)\n",
      "           ^^^^^^^^^^^^^^^^^^^^^^^^^^^^^^^^^^^^^^^^^^^^^^^^^^^^^^^^^\n",
      "FileNotFoundError: [Errno 2] No such file or directory: '--f=/Users/siljastubhaugtorkildsen/Library/Jupyter/runtime/kernel-v3387711debc21648addfb604998bfd8e65c21b7e1.json.zip'\n"
     ]
    }
   ],
   "source": [
    "model_path = \"./models_final/ppo_lux_final\"\n",
    "if len(sys.argv) > 1:\n",
    "    model_path = sys.argv[1]\n",
    "\n",
    "test_model(model_path)"
   ]
  }
 ],
 "metadata": {
  "kernelspec": {
   "display_name": "inf367",
   "language": "python",
   "name": "python3"
  },
  "language_info": {
   "codemirror_mode": {
    "name": "ipython",
    "version": 3
   },
   "file_extension": ".py",
   "mimetype": "text/x-python",
   "name": "python",
   "nbconvert_exporter": "python",
   "pygments_lexer": "ipython3",
   "version": "3.12.8"
  }
 },
 "nbformat": 4,
 "nbformat_minor": 2
}
